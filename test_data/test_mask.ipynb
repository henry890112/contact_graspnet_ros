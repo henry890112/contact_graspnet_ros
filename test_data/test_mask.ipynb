{
 "cells": [
  {
   "attachments": {},
   "cell_type": "markdown",
   "metadata": {},
   "source": [
    "### see the input data"
   ]
  },
  {
   "cell_type": "code",
   "execution_count": 12,
   "metadata": {},
   "outputs": [
    {
     "name": "stdout",
     "output_type": "stream",
     "text": [
      "dict_keys(['rgb', 'depth', 'K', 'seg'])\n",
      "(720, 1280)\n"
     ]
    }
   ],
   "source": [
    "import cv2\n",
    "import numpy as np\n",
    "from PIL import Image\n",
    "\n",
    "test = np.load(\"./0.npy\", allow_pickle=True, encoding=\"latin1\").item() # if .npy內為dict就要這樣宣告\n",
    "# test = np.load(\"./depth.npy\", allow_pickle=True, encoding=\"latin1\")\n",
    "print(test.keys())\n",
    "# print(test)\n",
    "print(test['seg'].shape)"
   ]
  },
  {
   "attachments": {},
   "cell_type": "markdown",
   "metadata": {},
   "source": [
    "### see the result data"
   ]
  },
  {
   "cell_type": "code",
   "execution_count": 14,
   "metadata": {},
   "outputs": [
    {
     "name": "stdout",
     "output_type": "stream",
     "text": [
      "[[-0.7824187   0.622205   -0.02611187  0.01207002]\n",
      " [-0.21065183 -0.22496948  0.9513225  -0.11489488]\n",
      " [ 0.5860433   0.74983305  0.30708897  0.39737815]\n",
      " [ 0.          0.          0.          1.        ]]\n"
     ]
    }
   ],
   "source": [
    "scores = np.load(\"../results/predictions_8/scores.npy\", allow_pickle=True, encoding=\"latin1\").item()\n",
    "pred_grasp = np.load(\"../results/predictions_8/pred_grasps_cam.npy\", allow_pickle=True, encoding=\"latin1\").item()\n",
    "contact_pts = np.load(\"../results/predictions_8/contact_pts.npy\", allow_pickle=True, encoding=\"latin1\").item()\n",
    "graspoing_pose = np.load(\"../results/best_grasping_pose.npy\")\n",
    "\n",
    "print(graspoing_pose)\n",
    "# print(scores)\n",
    "# print(pred_grasp)\n",
    "# print(pred_grasps_cam[k][np.argmax(scores[k])])\n",
    "# print(contact_pts[1])\n",
    "\n"
   ]
  },
  {
   "cell_type": "code",
   "execution_count": 5,
   "metadata": {},
   "outputs": [],
   "source": [
    "import numpy as np\n",
    "\n",
    "ones = np.ones(shape = (224, 224, 3))\n",
    "for i in range(50):\n",
    "    mask = cv2.imread('./masks000/00'+str(i)+'.png')\n",
    "    # print(mask)\n",
    "    new = ones - mask\n",
    "    cv2.imwrite('./masks/00'+str(i)+'.png', new)\n"
   ]
  },
  {
   "attachments": {},
   "cell_type": "markdown",
   "metadata": {},
   "source": [
    "## Correct（將1換成0且0換成1）\n",
    "### PIL會讀進二維矩陣（正確的矩陣）, opencv會強至轉成三維所以會錯"
   ]
  },
  {
   "cell_type": "code",
   "execution_count": 28,
   "metadata": {},
   "outputs": [
    {
     "name": "stdout",
     "output_type": "stream",
     "text": [
      "(224, 224)\n"
     ]
    },
    {
     "data": {
      "text/plain": [
       "True"
      ]
     },
     "execution_count": 28,
     "metadata": {},
     "output_type": "execute_result"
    }
   ],
   "source": [
    "from PIL import Image\n",
    "import numpy as np\n",
    "import cv2\n",
    "\n",
    "ones = np.ones(shape = (224, 224))\n",
    "\n",
    "mask = np.array(Image.open('./mask.png'), dtype=np.uint8)\n",
    "new = ones - mask\n",
    "print(new.shape)\n",
    "cv2.imwrite('./new_mask.png', new)\n",
    "# mask.save('./masks/00'+str(i)+'.png')\n"
   ]
  },
  {
   "attachments": {},
   "cell_type": "markdown",
   "metadata": {},
   "source": [
    "#### 儲存成影片"
   ]
  },
  {
   "cell_type": "code",
   "execution_count": 17,
   "metadata": {},
   "outputs": [],
   "source": [
    "import cv2\n",
    "\n",
    "path = \"../results_custom/video/result.mp4\"\n",
    "fourcc = cv2.VideoWriter_fourcc(*'mp4v')\n",
    "videowriter = cv2.VideoWriter(path, fourcc, 20, (224, 224))\n",
    "# print(numer_of_step)\n",
    "for i in range(50):\n",
    "    img = cv2.imread('../results_custom/BundleTrack/color_viz/00'+str(i)+'_color_viz.jpg')\n",
    "    # print(img)\n",
    "    videowriter.write(img)\n",
    "videowriter.release()"
   ]
  },
  {
   "cell_type": "code",
   "execution_count": null,
   "metadata": {},
   "outputs": [],
   "source": []
  }
 ],
 "metadata": {
  "kernelspec": {
   "display_name": "Python 3",
   "language": "python",
   "name": "python3"
  },
  "language_info": {
   "codemirror_mode": {
    "name": "ipython",
    "version": 3
   },
   "file_extension": ".py",
   "mimetype": "text/x-python",
   "name": "python",
   "nbconvert_exporter": "python",
   "pygments_lexer": "ipython3",
   "version": "3.8.10 (default, Nov 14 2022, 12:59:47) \n[GCC 9.4.0]"
  },
  "orig_nbformat": 4,
  "vscode": {
   "interpreter": {
    "hash": "e7370f93d1d0cde622a1f8e1c04877d8463912d04d973331ad4851f04de6915a"
   }
  }
 },
 "nbformat": 4,
 "nbformat_minor": 2
}
